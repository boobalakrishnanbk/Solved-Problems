{
 "cells": [
  {
   "cell_type": "code",
   "execution_count": null,
   "metadata": {},
   "outputs": [],
   "source": [
    "# Generate Paranthesis Equally\n",
    "def Parenthesis(str, n):\n",
    "    if(n > 0):\n",
    "        generateParenthesis(str, 0, n, 0, 0)\n",
    "\n",
    " \n",
    "def generateParenthesis(str, pos, n , open,close):\n",
    "    if close == n:\n",
    "        for i in str:\n",
    "            print(i, end=\"\")\n",
    "        print()\n",
    "    \n",
    "    else:\n",
    "        if open > close:\n",
    "            str[pos] = \")\"\n",
    "            generateParenthesis(str,pos+1, n, open, close+1)\n",
    "        if open < n:\n",
    "            str[pos] = \"(\"\n",
    "            generateParenthesis(str,pos+1, n, open+1, close)\n",
    "n = int(input())\n",
    "str = [\"\"] * 2 * n\n",
    "Parenthesis(str, n)"
   ]
  },
  {
   "cell_type": "code",
   "execution_count": null,
   "metadata": {},
   "outputs": [],
   "source": [
    "# binary tree traversal\n",
    "class Tree:\n",
    "    def __init__(self, value = None) -> None:\n",
    "        self.left = None\n",
    "        self.right = None\n",
    "        self.value = value\n",
    "\n",
    "    # insert root\n",
    "    def insertValue(self, value) -> None:\n",
    "        if self.value: # check if root has value\n",
    "            if value < self.value:\n",
    "                if self.left is None:\n",
    "                    self.left = Tree(value)\n",
    "                else:\n",
    "                    self.left.insertValue(value)\n",
    "            elif value > self.value:\n",
    "                if self.right is None:\n",
    "                    self.right = Tree(value)\n",
    "                else:\n",
    "                    self.right.insertValue(value)\n",
    "            \n",
    "        else: # assign root value if not assigned\n",
    "            self.value = value\n",
    "\n",
    "    def PrintTree(self, orderTraversal = \"PREORDER\") -> None:        \n",
    "        if orderTraversal.upper().replace(\" \",\"\") == \"PREORDER\": print(self.value, end = \" \")\n",
    "        if self.left:\n",
    "            self.left.PrintTree(orderTraversal)\n",
    "        if orderTraversal.upper().replace(\" \",\"\") == \"INORDER\": print(self.value, end = \" \") \n",
    "        if self.right:\n",
    "            self.right.PrintTree(orderTraversal)\n",
    "        if orderTraversal.upper().replace(\" \",\"\") == \"POSTORDER\": print(self.value, end = \" \")\n",
    "        return None\n",
    "\n",
    "binaryTree = Tree()\n",
    "insertInputs = [27,14,11,42,35,19,31,9,10, 10]\n",
    "for i in insertInputs:\n",
    "    binaryTree.insertValue(i)\n",
    "'''type the type of traversal order'''\n",
    "binaryTree.PrintTree(orderTraversal=\"\")\n",
    "\n",
    "# print(binaryTree.PreOrderTraversal(binaryTree))    ''' another way of traversing '''\n",
    "'''\n",
    "def PreOrderTraversal(self, tree) -> list:\n",
    "    outputValue = []\n",
    "    if tree:\n",
    "        outputValue.append(tree.value)\n",
    "        outputValue += self.PreOrderTraversal(tree.left)\n",
    "        outputValue += self.PreOrderTraversal(tree.right)\n",
    "    return outputValue\n",
    "\n",
    "    def LeftOrderTree(tree) -> List:\n",
    "        return self.PreOrderTraversal(tree.left)\n",
    "'''"
   ]
  },
  {
   "cell_type": "code",
   "execution_count": 7,
   "metadata": {},
   "outputs": [
    {
     "name": "stdout",
     "output_type": "stream",
     "text": [
      "[2, 3]\n",
      "5\n"
     ]
    }
   ],
   "source": [
    "testCases = int(input())\n",
    "for i in range(testCases):\n",
    "    balloonPrice = list(map(int, input().split()))\n",
    "    participants = int(input())\n",
    "    totalBalloonsCost = 0\n",
    "    for j in range(participants):\n",
    "        problem = list(map(int, input().split()))\n",
    "        totalBalloonsCost += problem[0] * balloonPrice[0] + problem[1] * balloonPrice[1]\n",
    "    print(totalBalloonsCost)"
   ]
  }
 ],
 "metadata": {
  "kernelspec": {
   "display_name": "Python 3",
   "language": "python",
   "name": "python3"
  },
  "language_info": {
   "codemirror_mode": {
    "name": "ipython",
    "version": 3
   },
   "file_extension": ".py",
   "mimetype": "text/x-python",
   "name": "python",
   "nbconvert_exporter": "python",
   "pygments_lexer": "ipython3",
   "version": "3.10.9 (tags/v3.10.9:1dd9be6, Dec  6 2022, 20:01:21) [MSC v.1934 64 bit (AMD64)]"
  },
  "orig_nbformat": 4,
  "vscode": {
   "interpreter": {
    "hash": "30d30d668b52d0b5fb25e88b3a5af7205dbfc5a5ed42cf014e085d7e9cc08385"
   }
  }
 },
 "nbformat": 4,
 "nbformat_minor": 2
}
